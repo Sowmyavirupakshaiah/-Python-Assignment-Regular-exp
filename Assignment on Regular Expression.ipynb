{
 "cells": [
  {
   "cell_type": "markdown",
   "id": "aa27a9ce",
   "metadata": {},
   "source": [
    "# Make a search that returns no match"
   ]
  },
  {
   "cell_type": "code",
   "execution_count": 1,
   "id": "c597265e",
   "metadata": {},
   "outputs": [
    {
     "name": "stdout",
     "output_type": "stream",
     "text": [
      "None\n"
     ]
    }
   ],
   "source": [
    "import re\n",
    "\n",
    "txt = \"The snow in america\"\n",
    "x = re.search(\"india\", txt)\n",
    "print(x)"
   ]
  },
  {
   "cell_type": "markdown",
   "id": "04a1d598",
   "metadata": {},
   "source": [
    "# Program to sort alphabetically the words form a string provided by the user"
   ]
  },
  {
   "cell_type": "code",
   "execution_count": 4,
   "id": "c7c37122",
   "metadata": {},
   "outputs": [
    {
     "name": "stdout",
     "output_type": "stream",
     "text": [
      "Enter a string: hamburger\n",
      "The sorted words are:\n",
      "hamburger\n"
     ]
    }
   ],
   "source": [
    "# Program to sort alphabetically the words form a string provided by the user\n",
    "\n",
    "str_user = input(\"Enter a string: \")\n",
    "\n",
    "words = [word.lower() for word in str_user.split()]\n",
    "\n",
    "words.sort()\n",
    "\n",
    "print(\"The sorted words are:\")\n",
    "for word in words:\n",
    "   print(word)"
   ]
  }
 ],
 "metadata": {
  "kernelspec": {
   "display_name": "Python 3 (ipykernel)",
   "language": "python",
   "name": "python3"
  },
  "language_info": {
   "codemirror_mode": {
    "name": "ipython",
    "version": 3
   },
   "file_extension": ".py",
   "mimetype": "text/x-python",
   "name": "python",
   "nbconvert_exporter": "python",
   "pygments_lexer": "ipython3",
   "version": "3.9.7"
  }
 },
 "nbformat": 4,
 "nbformat_minor": 5
}
